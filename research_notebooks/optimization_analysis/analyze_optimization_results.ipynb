{
 "cells": [
  {
   "cell_type": "code",
   "metadata": {
    "collapsed": false
   },
   "source": [
    "import os\n",
    "import sys\n",
    "\n",
    "import pandas as pd\n",
    "\n",
    "root_path = os.path.abspath(os.path.join(os.getcwd(), '../..'))\n",
    "sys.path.append(root_path)"
   ],
   "outputs": [],
   "execution_count": null
  },
  {
   "cell_type": "code",
   "metadata": {},
   "source": [
    "from core.backtesting.optimizer import StrategyOptimizer\n",
    "\n",
    "optimizer = StrategyOptimizer(root_path=root_path)\n",
    "optimizer.get_all_study_names()\n"
   ],
   "outputs": [],
   "execution_count": null
  },
  {
   "cell_type": "code",
   "metadata": {},
   "source": [
    "study_name = \"xgridt_2024-11-22\"\n",
    "df = optimizer.get_study_trials_df(study_name)\n",
    "df"
   ],
   "outputs": [],
   "execution_count": null
  },
  {
   "cell_type": "code",
   "metadata": {},
   "source": [
    "df_filtered = df[df[\"value\"] > 0].sort_values(\"total_executors\", ascending=False)\n",
    "df_filtered"
   ],
   "outputs": [],
   "execution_count": null
  },
  {
   "cell_type": "code",
   "metadata": {},
   "source": [
    "import plotly.express as px\n",
    "\n",
    "px.scatter(df_filtered, x=\"total_executors\", y=\"sharpe_ratio\", color=\"net_pnl\", hover_data=[\"number\"])"
   ],
   "outputs": [],
   "execution_count": null
  },
  {
   "cell_type": "code",
   "metadata": {},
   "source": [
    "from core.backtesting import BacktestingEngine\n",
    "import json\n",
    "\n",
    "import datetime\n",
    "\n",
    "id_to_backtest = 7\n",
    "resolution = \"1m\"\n",
    "config = json.loads(df[df[\"number\"] == id_to_backtest].iloc[0][\"config\"])\n",
    "connector_name = config[\"connector_name\"]\n",
    "trading_pair = config[\"trading_pair\"]\n",
    "BACKTESTING_DAYS = 30\n",
    "start_date = datetime.datetime.now() - datetime.timedelta(days=BACKTESTING_DAYS)\n",
    "end_date = datetime.datetime.now()\n",
    "\n",
    "backtesting_engine = BacktestingEngine(root_path=root_path, load_cached_data=False)\n",
    "config = backtesting_engine.get_controller_config_instance_from_dict(config)"
   ],
   "outputs": [],
   "execution_count": null
  },
  {
   "cell_type": "code",
   "metadata": {},
   "source": [
    "bt_result = await backtesting_engine.run_backtesting(config=config, start=int(start_date.timestamp()), end=int(end_date.timestamp()), backtesting_resolution=resolution)"
   ],
   "outputs": [],
   "execution_count": null
  },
  {
   "cell_type": "code",
   "metadata": {
    "collapsed": false
   },
   "source": [
    "print(bt_result.get_results_summary())\n",
    "bt_result.get_backtesting_figure()"
   ],
   "outputs": [],
   "execution_count": null
  },
  {
   "cell_type": "code",
   "metadata": {
    "collapsed": false
   },
   "source": [
    "from core.services.backend_api_client import BackendAPIClient\n",
    "\n",
    "client = BackendAPIClient()"
   ],
   "outputs": [],
   "execution_count": null
  },
  {
   "cell_type": "code",
   "metadata": {
    "collapsed": false
   },
   "source": [
    "bt_result.controller_config.dict()"
   ],
   "outputs": [],
   "execution_count": null
  },
  {
   "cell_type": "code",
   "metadata": {
    "collapsed": false
   },
   "source": [
    "await client.add_controller_config(json.loads(bt_result.controller_config.json()))"
   ],
   "outputs": [],
   "execution_count": null
  },
  {
   "cell_type": "code",
   "metadata": {
    "collapsed": false
   },
   "source": [
    "await client.deploy_script_with_controllers(\n",
    "    bot_name=\"test_1\",\n",
    "    controller_configs=[bt_result.controller_config.id + \".yml\"],\n",
    "    image_name=\"dardonacci/hummingbot:latest\",\n",
    "    max_global_drawdown=50,\n",
    "    max_controller_drawdown=20,\n",
    ")"
   ],
   "outputs": [],
   "execution_count": null
  }
 ],
 "metadata": {
  "kernelspec": {
   "display_name": "Python 3",
   "language": "python",
   "name": "python3"
  },
  "language_info": {
   "codemirror_mode": {
    "name": "ipython",
    "version": 3
   },
   "file_extension": ".py",
   "mimetype": "text/x-python",
   "name": "python",
   "nbconvert_exporter": "python",
   "pygments_lexer": "ipython3",
   "version": "3.10.15"
  }
 },
 "nbformat": 4,
 "nbformat_minor": 0
}
