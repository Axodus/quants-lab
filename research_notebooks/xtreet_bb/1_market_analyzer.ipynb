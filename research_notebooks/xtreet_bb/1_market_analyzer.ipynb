{
 "cells": [
  {
   "cell_type": "code",
   "execution_count": 1,
   "metadata": {
    "collapsed": false,
    "jupyter": {
     "outputs_hidden": false
    },
    "ExecuteTime": {
     "end_time": "2024-08-31T23:46:54.856750Z",
     "start_time": "2024-08-31T23:46:53.855218Z"
    }
   },
   "outputs": [],
   "source": [
    "# This is necessary to recognize the modules\n",
    "import os\n",
    "import sys\n",
    "\n",
    "root_path = os.path.abspath(os.path.join(os.getcwd(), '../..'))\n",
    "sys.path.append(root_path)\n",
    "\n",
    "import asyncio\n",
    "from decimal import Decimal\n",
    "from core.data_sources import CLOBDataSource\n",
    "from core.features.candles.volatility import VolatilityConfig\n",
    "from research_notebooks.xtreet_bb.utils import generate_config, dump_dict_to_yaml\n",
    "\n",
    "clob = CLOBDataSource()"
   ]
  },
  {
   "cell_type": "code",
   "execution_count": 3,
   "metadata": {
    "collapsed": false,
    "jupyter": {
     "outputs_hidden": false
    },
    "ExecuteTime": {
     "end_time": "2024-08-31T23:47:02.671664Z",
     "start_time": "2024-08-31T23:47:02.668384Z"
    }
   },
   "outputs": [],
   "source": [
    "# Screener parameters\n",
    "CONNECTOR_NAME = \"binance_perpetual\"\n",
    "INTERVALS = [\"1m\"]\n",
    "DAYS = 7\n",
    "FETCH_CANDLES = False\n",
    "BATCH_CANDLES_REQUEST = 15\n",
    "SLEEP_REQUEST = 60.0\n",
    "VOLUME_THRESHOLD = 0.3  # From percentile VOLUME_THRESHOLD to 1\n",
    "VOLATILITY_THRESHOLD = 0.4  # From percentile VOLATILITY_THRESHOLD to 1\n",
    "\n",
    "# Trading Rules Filter\n",
    "QUOTE_ASSET = \"USDT\"\n",
    "MIN_NOTIONAL_SIZE = 5  # In USDT\n",
    "MAX_PRICE_STEP = 0.001  # Min price step in % (tick size)\n",
    "\n",
    "VOLATILITY_WINDOW = 60  # In bars\n",
    "VOLUME_FAST_WINDOW = 20  # No se usa\n",
    "VOLUME_SLOW_WINDOW = 100  # No se usa\n",
    "\n",
    "# Config generation\n",
    "TOTAL_AMOUNT = 300  # General total amount for all markets\n",
    "ACTIVATION_BOUNDS = 0.002  # Input activation bounds\n",
    "MAX_EXECUTORS_PER_SIDE = 1  # Maximum number of executors per side\n",
    "COOLDOWN_TIME = 0\n",
    "LEVERAGE = 20 # Should be for each trading pair\n",
    "TIME_LIMIT = 60 * 60 * 24\n",
    "BOLLINGER_LENGTHS = [50, 100, 200]\n",
    "BOLLINGER_STDS = [1.4, 1.8, 2.2]\n",
    "SL_STD_MULTIPLIER = 2\n",
    "TS_DELTA_MULTIPLIER = 0.2\n",
    "\n",
    "# Config filtering\n",
    "MIN_DISTANCE_BETWEEN_ORDERS = 0.01\n",
    "MAX_TS_SL_RATIO = 0.5"
   ]
  },
  {
   "cell_type": "markdown",
   "metadata": {
    "collapsed": false,
    "jupyter": {
     "outputs_hidden": false
    }
   },
   "source": [
    "# Download data\n",
    "- Get trading rules\n",
    "- Get candles for the last x days"
   ]
  },
  {
   "cell_type": "code",
   "execution_count": 4,
   "outputs": [
    {
     "name": "stderr",
     "output_type": "stream",
     "text": [
      "2024-08-31 20:47:04,185 - asyncio - ERROR - Unclosed client session\n",
      "client_session: <aiohttp.client.ClientSession object at 0x1462e64d0>\n",
      "2024-08-31 20:47:04,186 - asyncio - ERROR - Unclosed connector\n",
      "connections: ['[(<aiohttp.client_proto.ResponseHandler object at 0x146231000>, 716.700306291)]']\n",
      "connector: <aiohttp.connector.TCPConnector object at 0x1462e6500>\n"
     ]
    }
   ],
   "source": [
    "trading_rules = await clob.get_trading_rules(CONNECTOR_NAME)\n",
    "trading_pairs = trading_rules.filter_by_quote_asset(QUOTE_ASSET)\\\n",
    "    .filter_by_min_notional_size(Decimal(MIN_NOTIONAL_SIZE))\\\n",
    "    .get_all_trading_pairs()\n",
    "\n",
    "if FETCH_CANDLES:\n",
    "    number_of_calls = (len(trading_pairs) // BATCH_CANDLES_REQUEST) + 1\n",
    "\n",
    "    all_candles = {}\n",
    "\n",
    "    for i in range(number_of_calls):\n",
    "        print(f\"Batch {i + 1}/{number_of_calls}\")\n",
    "        start = i * BATCH_CANDLES_REQUEST\n",
    "        end = (i + 1) * BATCH_CANDLES_REQUEST\n",
    "        print(f\"Start: {start}, End: {end}\")\n",
    "        end = min(end, len(trading_pairs))\n",
    "        trading_pairs_batch = trading_pairs[start:end]\n",
    "\n",
    "        tasks = [clob.get_candles_last_days(\n",
    "        connector_name=CONNECTOR_NAME,\n",
    "        trading_pair=trading_pair,\n",
    "        interval=interval,\n",
    "        days=DAYS,\n",
    "        ) for trading_pair in trading_pairs_batch for interval in INTERVALS]\n",
    "\n",
    "        candles = await asyncio.gather(*tasks)\n",
    "        candles = {trading_pair: candle for trading_pair, candle in zip(trading_pairs, candles)}\n",
    "        all_candles.update(candles)\n",
    "        if i != number_of_calls - 1:\n",
    "            print(f\"Sleeping for {SLEEP_REQUEST} seconds\")\n",
    "            await asyncio.sleep(SLEEP_REQUEST)\n",
    "    clob.dump_candles_cache(os.path.join(root_path, \"data\"))\n",
    "else:\n",
    "    clob.load_candles_cache(os.path.join(root_path, \"data\"))\n",
    "candles = [value for key, value in clob.candles_cache.items() if key[2] in INTERVALS and key[0] == CONNECTOR_NAME]"
   ],
   "metadata": {
    "collapsed": false,
    "ExecuteTime": {
     "end_time": "2024-08-31T23:47:09.379943Z",
     "start_time": "2024-08-31T23:47:03.635527Z"
    }
   }
  },
  {
   "cell_type": "code",
   "execution_count": 5,
   "outputs": [
    {
     "name": "stdout",
     "output_type": "stream",
     "text": [
      "Error processing FRONT-USDT: list index out of range\n"
     ]
    },
    {
     "data": {
      "text/plain": "    trading_pair  mean_volatility  mean_natr  mean_bb_width  \\\n13      XEM-USDT       0.00410815 0.00559602     1.56626734   \n257    DOGS-USDT       0.00374633 0.00557404     3.85099236   \n238    VIDT-USDT       0.00342757 0.00483275     3.41291894   \n113     SUN-USDT       0.00325588 0.00480054     3.53904681   \n220    MBOX-USDT       0.00305356 0.00447024     2.57347104   \n..           ...              ...        ...            ...   \n214    LOOM-USDT       0.00070864 0.00079939     0.86434271   \n163     XLM-USDT       0.00062574 0.00076637      0.7169193   \n83      TRX-USDT       0.00055072 0.00074257     0.60155461   \n33   BTCDOM-USDT       0.00033664 0.00038206     0.36554343   \n190    USDC-USDT        0.0000059 0.00000264     0.00810548   \n\n     average_volume_per_hour  last_price  price_step_pct  normalized_score  \\\n13           846412.32974442      0.0179      0.00558659        0.00594733   \n257        58372508.26445325   0.0013144      0.00007608                 1   \n238         9531744.99586725     0.05028      0.00019889         0.1446982   \n113         29867774.9081979    0.036038      0.00002775        0.47005751   \n220         3666078.91249911      0.1663      0.00060132        0.04201845   \n..                       ...         ...             ...               ...   \n214           192434.0459994     0.04468      0.00022381        0.00073839   \n163         1482130.11107517     0.09322      0.00010727        0.00471978   \n83          8568631.95350011     0.15937      0.00006275        0.02291065   \n33           164958.52376029      2824.5       0.0000354        0.00026782   \n190          112444.42121317     0.99959        0.000001        0.00000404   \n\n                                              url  \n13      https://www.binance.com/en/trade/XEM-USDT  \n257    https://www.binance.com/en/trade/DOGS-USDT  \n238    https://www.binance.com/en/trade/VIDT-USDT  \n113     https://www.binance.com/en/trade/SUN-USDT  \n220    https://www.binance.com/en/trade/MBOX-USDT  \n..                                            ...  \n214    https://www.binance.com/en/trade/LOOM-USDT  \n163     https://www.binance.com/en/trade/XLM-USDT  \n83      https://www.binance.com/en/trade/TRX-USDT  \n33   https://www.binance.com/en/trade/BTCDOM-USDT  \n190    https://www.binance.com/en/trade/USDC-USDT  \n\n[271 rows x 9 columns]",
      "text/html": "<div>\n<style scoped>\n    .dataframe tbody tr th:only-of-type {\n        vertical-align: middle;\n    }\n\n    .dataframe tbody tr th {\n        vertical-align: top;\n    }\n\n    .dataframe thead th {\n        text-align: right;\n    }\n</style>\n<table border=\"1\" class=\"dataframe\">\n  <thead>\n    <tr style=\"text-align: right;\">\n      <th></th>\n      <th>trading_pair</th>\n      <th>mean_volatility</th>\n      <th>mean_natr</th>\n      <th>mean_bb_width</th>\n      <th>average_volume_per_hour</th>\n      <th>last_price</th>\n      <th>price_step_pct</th>\n      <th>normalized_score</th>\n      <th>url</th>\n    </tr>\n  </thead>\n  <tbody>\n    <tr>\n      <th>13</th>\n      <td>XEM-USDT</td>\n      <td>0.00410815</td>\n      <td>0.00559602</td>\n      <td>1.56626734</td>\n      <td>846412.32974442</td>\n      <td>0.0179</td>\n      <td>0.00558659</td>\n      <td>0.00594733</td>\n      <td>https://www.binance.com/en/trade/XEM-USDT</td>\n    </tr>\n    <tr>\n      <th>257</th>\n      <td>DOGS-USDT</td>\n      <td>0.00374633</td>\n      <td>0.00557404</td>\n      <td>3.85099236</td>\n      <td>58372508.26445325</td>\n      <td>0.0013144</td>\n      <td>0.00007608</td>\n      <td>1</td>\n      <td>https://www.binance.com/en/trade/DOGS-USDT</td>\n    </tr>\n    <tr>\n      <th>238</th>\n      <td>VIDT-USDT</td>\n      <td>0.00342757</td>\n      <td>0.00483275</td>\n      <td>3.41291894</td>\n      <td>9531744.99586725</td>\n      <td>0.05028</td>\n      <td>0.00019889</td>\n      <td>0.1446982</td>\n      <td>https://www.binance.com/en/trade/VIDT-USDT</td>\n    </tr>\n    <tr>\n      <th>113</th>\n      <td>SUN-USDT</td>\n      <td>0.00325588</td>\n      <td>0.00480054</td>\n      <td>3.53904681</td>\n      <td>29867774.9081979</td>\n      <td>0.036038</td>\n      <td>0.00002775</td>\n      <td>0.47005751</td>\n      <td>https://www.binance.com/en/trade/SUN-USDT</td>\n    </tr>\n    <tr>\n      <th>220</th>\n      <td>MBOX-USDT</td>\n      <td>0.00305356</td>\n      <td>0.00447024</td>\n      <td>2.57347104</td>\n      <td>3666078.91249911</td>\n      <td>0.1663</td>\n      <td>0.00060132</td>\n      <td>0.04201845</td>\n      <td>https://www.binance.com/en/trade/MBOX-USDT</td>\n    </tr>\n    <tr>\n      <th>...</th>\n      <td>...</td>\n      <td>...</td>\n      <td>...</td>\n      <td>...</td>\n      <td>...</td>\n      <td>...</td>\n      <td>...</td>\n      <td>...</td>\n      <td>...</td>\n    </tr>\n    <tr>\n      <th>214</th>\n      <td>LOOM-USDT</td>\n      <td>0.00070864</td>\n      <td>0.00079939</td>\n      <td>0.86434271</td>\n      <td>192434.0459994</td>\n      <td>0.04468</td>\n      <td>0.00022381</td>\n      <td>0.00073839</td>\n      <td>https://www.binance.com/en/trade/LOOM-USDT</td>\n    </tr>\n    <tr>\n      <th>163</th>\n      <td>XLM-USDT</td>\n      <td>0.00062574</td>\n      <td>0.00076637</td>\n      <td>0.7169193</td>\n      <td>1482130.11107517</td>\n      <td>0.09322</td>\n      <td>0.00010727</td>\n      <td>0.00471978</td>\n      <td>https://www.binance.com/en/trade/XLM-USDT</td>\n    </tr>\n    <tr>\n      <th>83</th>\n      <td>TRX-USDT</td>\n      <td>0.00055072</td>\n      <td>0.00074257</td>\n      <td>0.60155461</td>\n      <td>8568631.95350011</td>\n      <td>0.15937</td>\n      <td>0.00006275</td>\n      <td>0.02291065</td>\n      <td>https://www.binance.com/en/trade/TRX-USDT</td>\n    </tr>\n    <tr>\n      <th>33</th>\n      <td>BTCDOM-USDT</td>\n      <td>0.00033664</td>\n      <td>0.00038206</td>\n      <td>0.36554343</td>\n      <td>164958.52376029</td>\n      <td>2824.5</td>\n      <td>0.0000354</td>\n      <td>0.00026782</td>\n      <td>https://www.binance.com/en/trade/BTCDOM-USDT</td>\n    </tr>\n    <tr>\n      <th>190</th>\n      <td>USDC-USDT</td>\n      <td>0.0000059</td>\n      <td>0.00000264</td>\n      <td>0.00810548</td>\n      <td>112444.42121317</td>\n      <td>0.99959</td>\n      <td>0.000001</td>\n      <td>0.00000404</td>\n      <td>https://www.binance.com/en/trade/USDC-USDT</td>\n    </tr>\n  </tbody>\n</table>\n<p>271 rows × 9 columns</p>\n</div>"
     },
     "execution_count": 5,
     "metadata": {},
     "output_type": "execute_result"
    }
   ],
   "source": [
    "from core.features.candles.volume import VolumeConfig\n",
    "from research_notebooks.xtreet_bb.utils import generate_screener_report\n",
    "\n",
    "screner_report = generate_screener_report(\n",
    "    candles=candles,\n",
    "    trading_rules=trading_rules,\n",
    "    volatility_config=VolatilityConfig(window=VOLATILITY_WINDOW),\n",
    "    volume_config=VolumeConfig(short_window=VOLUME_FAST_WINDOW, long_window=VOLUME_FAST_WINDOW))\n",
    "screner_report[\"url\"] = screner_report[\"trading_pair\"].apply(lambda x: f\"https://www.binance.com/en/trade/{x}\")\n",
    "screner_report.sort_values(\"mean_natr\", ascending=False, inplace=True)\n",
    "screner_report"
   ],
   "metadata": {
    "collapsed": false,
    "ExecuteTime": {
     "end_time": "2024-08-31T23:47:10.828358Z",
     "start_time": "2024-08-31T23:47:09.380236Z"
    }
   }
  },
  {
   "cell_type": "code",
   "execution_count": 6,
   "outputs": [
    {
     "data": {
      "text/plain": "    trading_pair  mean_natr  average_volume_per_hour  price_step_pct  \\\n257    DOGS-USDT 0.00557404        58372508.26445325      0.00007608   \n238    VIDT-USDT 0.00483275         9531744.99586725      0.00019889   \n113     SUN-USDT 0.00480054         29867774.9081979      0.00002775   \n220    MBOX-USDT 0.00447024         3666078.91249911      0.00060132   \n119   CHESS-USDT  0.0044066         3825026.63651922      0.00054885   \n..           ...        ...                      ...             ...   \n73      ENS-USDT 0.00162084         1688687.45631713      0.00005531   \n135    COTI-USDT 0.00161843          384330.13129969      0.00012189   \n66     AAVE-USDT  0.0016094         5634949.37285643      0.00007622   \n43      ZEC-USDT 0.00160707         1461995.75748517      0.00030451   \n221    BOND-USDT 0.00160299          557097.81297887      0.00050025   \n\n                                             url  \n257   https://www.binance.com/en/trade/DOGS-USDT  \n238   https://www.binance.com/en/trade/VIDT-USDT  \n113    https://www.binance.com/en/trade/SUN-USDT  \n220   https://www.binance.com/en/trade/MBOX-USDT  \n119  https://www.binance.com/en/trade/CHESS-USDT  \n..                                           ...  \n73     https://www.binance.com/en/trade/ENS-USDT  \n135   https://www.binance.com/en/trade/COTI-USDT  \n66    https://www.binance.com/en/trade/AAVE-USDT  \n43     https://www.binance.com/en/trade/ZEC-USDT  \n221   https://www.binance.com/en/trade/BOND-USDT  \n\n[130 rows x 5 columns]",
      "text/html": "<div>\n<style scoped>\n    .dataframe tbody tr th:only-of-type {\n        vertical-align: middle;\n    }\n\n    .dataframe tbody tr th {\n        vertical-align: top;\n    }\n\n    .dataframe thead th {\n        text-align: right;\n    }\n</style>\n<table border=\"1\" class=\"dataframe\">\n  <thead>\n    <tr style=\"text-align: right;\">\n      <th></th>\n      <th>trading_pair</th>\n      <th>mean_natr</th>\n      <th>average_volume_per_hour</th>\n      <th>price_step_pct</th>\n      <th>url</th>\n    </tr>\n  </thead>\n  <tbody>\n    <tr>\n      <th>257</th>\n      <td>DOGS-USDT</td>\n      <td>0.00557404</td>\n      <td>58372508.26445325</td>\n      <td>0.00007608</td>\n      <td>https://www.binance.com/en/trade/DOGS-USDT</td>\n    </tr>\n    <tr>\n      <th>238</th>\n      <td>VIDT-USDT</td>\n      <td>0.00483275</td>\n      <td>9531744.99586725</td>\n      <td>0.00019889</td>\n      <td>https://www.binance.com/en/trade/VIDT-USDT</td>\n    </tr>\n    <tr>\n      <th>113</th>\n      <td>SUN-USDT</td>\n      <td>0.00480054</td>\n      <td>29867774.9081979</td>\n      <td>0.00002775</td>\n      <td>https://www.binance.com/en/trade/SUN-USDT</td>\n    </tr>\n    <tr>\n      <th>220</th>\n      <td>MBOX-USDT</td>\n      <td>0.00447024</td>\n      <td>3666078.91249911</td>\n      <td>0.00060132</td>\n      <td>https://www.binance.com/en/trade/MBOX-USDT</td>\n    </tr>\n    <tr>\n      <th>119</th>\n      <td>CHESS-USDT</td>\n      <td>0.0044066</td>\n      <td>3825026.63651922</td>\n      <td>0.00054885</td>\n      <td>https://www.binance.com/en/trade/CHESS-USDT</td>\n    </tr>\n    <tr>\n      <th>...</th>\n      <td>...</td>\n      <td>...</td>\n      <td>...</td>\n      <td>...</td>\n      <td>...</td>\n    </tr>\n    <tr>\n      <th>73</th>\n      <td>ENS-USDT</td>\n      <td>0.00162084</td>\n      <td>1688687.45631713</td>\n      <td>0.00005531</td>\n      <td>https://www.binance.com/en/trade/ENS-USDT</td>\n    </tr>\n    <tr>\n      <th>135</th>\n      <td>COTI-USDT</td>\n      <td>0.00161843</td>\n      <td>384330.13129969</td>\n      <td>0.00012189</td>\n      <td>https://www.binance.com/en/trade/COTI-USDT</td>\n    </tr>\n    <tr>\n      <th>66</th>\n      <td>AAVE-USDT</td>\n      <td>0.0016094</td>\n      <td>5634949.37285643</td>\n      <td>0.00007622</td>\n      <td>https://www.binance.com/en/trade/AAVE-USDT</td>\n    </tr>\n    <tr>\n      <th>43</th>\n      <td>ZEC-USDT</td>\n      <td>0.00160707</td>\n      <td>1461995.75748517</td>\n      <td>0.00030451</td>\n      <td>https://www.binance.com/en/trade/ZEC-USDT</td>\n    </tr>\n    <tr>\n      <th>221</th>\n      <td>BOND-USDT</td>\n      <td>0.00160299</td>\n      <td>557097.81297887</td>\n      <td>0.00050025</td>\n      <td>https://www.binance.com/en/trade/BOND-USDT</td>\n    </tr>\n  </tbody>\n</table>\n<p>130 rows × 5 columns</p>\n</div>"
     },
     "execution_count": 6,
     "metadata": {},
     "output_type": "execute_result"
    }
   ],
   "source": [
    "# Calculate the 20th percentile (0.2 quantile) for both columns\n",
    "natr_percentile = screner_report['mean_natr'].quantile(VOLATILITY_THRESHOLD)\n",
    "volume_percentile = screner_report['average_volume_per_hour'].quantile(VOLUME_THRESHOLD)\n",
    "\n",
    "# Filter the DataFrame to get observations where mean_natr is greater than its 20th percentile\n",
    "# and average_volume_per_hour is greater than its 20th percentile\n",
    "screener_top_markets = screner_report[\n",
    "    (screner_report['mean_natr'] > natr_percentile) &\n",
    "    (screner_report['average_volume_per_hour'] > volume_percentile) &\n",
    "    (screner_report[\"price_step_pct\"] < MAX_PRICE_STEP)\n",
    "]\n",
    "\n",
    "# Display the filtered DataFrame\n",
    "screener_top_markets[[\"trading_pair\", \"mean_natr\", \"average_volume_per_hour\", \"price_step_pct\", \"url\"]]"
   ],
   "metadata": {
    "collapsed": false,
    "ExecuteTime": {
     "end_time": "2024-08-31T23:47:10.835572Z",
     "start_time": "2024-08-31T23:47:10.830123Z"
    }
   }
  },
  {
   "cell_type": "code",
   "execution_count": 7,
   "metadata": {
    "collapsed": false,
    "jupyter": {
     "outputs_hidden": false
    },
    "ExecuteTime": {
     "end_time": "2024-08-31T23:47:52.967339Z",
     "start_time": "2024-08-31T23:47:15.169156Z"
    }
   },
   "outputs": [
    {
     "name": "stdout",
     "output_type": "stream",
     "text": [
      "Skipping ALT-USDT due to stop loss closer to get executed:BEP: 0.007820643823174267, SL: 0.005629139072847645, S1: 0.014109543384068517\n",
      "Skipping CYBER-USDT due to stop loss closer to get executed:BEP: 0.007928974450681414, SL: 0.00527287107830214, S1: 0.013342238056086812\n",
      "Skipping ALPACA-USDT due to stop loss closer to get executed:BEP: 0.011675670529016857, SL: 0.007487815684537106, S1: 0.020145253328722107\n",
      "Skipping EDU-USDT due to stop loss closer to get executed:BEP: 0.0053129674825611595, SL: 0.004995318838058084, S1: 0.010519054897795302\n",
      "Skipping CYBER-USDT due to stop loss closer to get executed:BEP: 0.009180902083360865, SL: 0.005859374999999974, S1: 0.015236322369992845\n",
      "Skipping ETHFI-USDT due to stop loss closer to get executed:BEP: 0.0074590419806386254, SL: 0.005965697240865032, S1: 0.013840830449827002\n",
      "Skipping LUNA2-USDT due to stop loss closer to get executed:BEP: 0.009466239548979516, SL: 0.006460674157303439, S1: 0.017376412701952428\n",
      "Skipping USTC-USDT due to stop loss closer to get executed:BEP: 0.008303648605976655, SL: 0.007878787878787978, S1: 0.01651283614997608\n",
      "Skipping NULS-USDT due to stop loss closer to get executed:BEP: 0.015248104582989752, SL: 0.011053795136330148, S1: 0.027802893309222372\n",
      "Skipping RUNE-USDT due to stop loss closer to get executed:BEP: 0.008753626923223568, SL: 0.005049340606206676, S1: 0.01594496201709715\n",
      "Skipping TURBO-USDT due to stop loss closer to get executed:BEP: 0.010620290335067839, SL: 0.008245569908098526, S1: 0.018984338182992763\n",
      "Skipping IO-USDT due to stop loss closer to get executed:BEP: 0.010651443931683824, SL: 0.009594362321904951, S1: 0.021209436762752866\n",
      "Skipping NEAR-USDT due to stop loss closer to get executed:BEP: 0.010199505745535298, SL: 0.006636643754444292, S1: 0.01702409904930355\n",
      "Skipping SUI-USDT due to stop loss closer to get executed:BEP: 0.015444067997328004, SL: 0.006262833675564676, S1: 0.02194865057350029\n",
      "Skipping CKB-USDT due to stop loss closer to get executed:BEP: 0.009824732707566453, SL: 0.005549523464832811, S1: 0.016743054905995567\n",
      "Skipping BEAMX-USDT due to stop loss closer to get executed:BEP: 0.009239531195978312, SL: 0.006532698998792876, S1: 0.017996485061511372\n",
      "Skipping STRK-USDT due to stop loss closer to get executed:BEP: 0.01754392224159118, SL: 0.0070067264573991095, S1: 0.024714727910865177\n",
      "Skipping CYBER-USDT due to stop loss closer to get executed:BEP: 0.00891688467670848, SL: 0.0054739268222414655, S1: 0.015300230946882199\n",
      "Skipping ZETA-USDT due to stop loss closer to get executed:BEP: 0.006297246235329679, SL: 0.0051355952644886, S1: 0.012208654270269254\n",
      "Skipping BOND-USDT due to stop loss closer to get executed:BEP: 0.007355578106560845, SL: 0.004980079681274905, S1: 0.01327027178638537\n",
      "Skipping ARKM-USDT due to stop loss closer to get executed:BEP: 0.01681190984191505, SL: 0.009136735979836212, S1: 0.026145801291910204\n",
      "Skipping ORBS-USDT due to stop loss closer to get executed:BEP: 0.005724267966172203, SL: 0.004234026173979946, S1: 0.010041841004184126\n",
      "Skipping ONDO-USDT due to stop loss closer to get executed:BEP: 0.006381689567537041, SL: 0.005610703495899891, S1: 0.012194542985547546\n",
      "Skipping SPELL-USDT due to stop loss closer to get executed:BEP: 0.012194966364798665, SL: 0.005660074677181699, S1: 0.017931747772803562\n",
      "Skipping RUNE-USDT due to stop loss closer to get executed:BEP: 0.005743614963270138, SL: 0.0050861742857140355, S1: 0.011280248780877343\n",
      "Skipping ALPACA-USDT due to stop loss closer to get executed:BEP: 0.017582519726029977, SL: 0.007473459040009485, S1: 0.025368036960134593\n",
      "Skipping EDU-USDT due to stop loss closer to get executed:BEP: 0.006263501993400977, SL: 0.00585906571654796, S1: 0.012182203389830538\n",
      "Skipping BEAMX-USDT due to stop loss closer to get executed:BEP: 0.013976315520394467, SL: 0.005460022593196954, S1: 0.020745583705287007\n",
      "Skipping SSV-USDT due to stop loss closer to get executed:BEP: 0.013452146136086807, SL: 0.00787570681420948, S1: 0.021536201411734054\n",
      "Skipping MBOX-USDT due to stop loss closer to get executed:BEP: 0.02814522498245009, SL: 0.013969732246798679, S1: 0.0434304562946675\n",
      "Skipping ONDO-USDT due to stop loss closer to get executed:BEP: 0.0060211026917447175, SL: 0.0047509357903829106, S1: 0.010817247530094927\n",
      "Skipping GALA-USDT due to stop loss closer to get executed:BEP: 0.01860959391978656, SL: 0.008341056533827761, S1: 0.027650480092609987\n",
      "Skipping ENS-USDT due to stop loss closer to get executed:BEP: 0.00912619536243553, SL: 0.005486871116605308, S1: 0.01568421822260411\n",
      "Skipping DAR-USDT due to stop loss closer to get executed:BEP: 0.009504733959273093, SL: 0.00562948384956001, S1: 0.016285231256267244\n",
      "Skipping MBOX-USDT due to stop loss closer to get executed:BEP: 0.02935632697392032, SL: 0.01670274095909522, S1: 0.04874356879788447\n",
      "Skipping BOND-USDT due to stop loss closer to get executed:BEP: 0.007651100673410349, SL: 0.004446640316205483, S1: 0.012639029322547984\n",
      "Skipping ORBS-USDT due to stop loss closer to get executed:BEP: 0.011439424120990083, SL: 0.0063246661981728606, S1: 0.01837484687627599\n",
      "Skipping ENS-USDT due to stop loss closer to get executed:BEP: 0.012811940123722554, SL: 0.0067971276654058424, S1: 0.020121928103943504\n",
      "Skipping DAR-USDT due to stop loss closer to get executed:BEP: 0.013489626370309704, SL: 0.006217512588871807, S1: 0.02057066003638799\n",
      "Skipping MBOX-USDT due to stop loss closer to get executed:BEP: 0.029967083824673724, SL: 0.014902161111347621, S1: 0.04599922200047362\n",
      "Skipping BOND-USDT due to stop loss closer to get executed:BEP: 0.008079768993066061, SL: 0.004536290322580593, S1: 0.012992879237932973\n",
      "Skipping HOOK-USDT due to stop loss closer to get executed:BEP: 0.015022852270284215, SL: 0.007843251323521226, S1: 0.023355501651070247\n",
      "Skipping ONDO-USDT due to stop loss closer to get executed:BEP: 0.016185559374940928, SL: 0.00554097404491109, S1: 0.023038049940547072\n",
      "Skipping BNX-USDT due to stop loss closer to get executed:BEP: 0.021269750598893467, SL: 0.007400250288197489, S1: 0.029877414833647142\n",
      "Skipping MBOX-USDT due to stop loss closer to get executed:BEP: 0.032365800212331264, SL: 0.014023306838071757, S1: 0.048872397600594\n",
      "Skipping IO-USDT due to stop loss closer to get executed:BEP: 0.013755788919654899, SL: 0.012482614539504487, S1: 0.027080568135743714\n",
      "Skipping BOME-USDT due to stop loss closer to get executed:BEP: 0.02266308841417186, SL: 0.009061602981419583, S1: 0.03189219950041945\n",
      "Skipping MBOX-USDT due to stop loss closer to get executed:BEP: 0.04067524764584807, SL: 0.023432234544451987, S1: 0.06963743847833329\n",
      "Skipping OM-USDT due to stop loss closer to get executed:BEP: 0.019632735671429646, SL: 0.01080495166191607, S1: 0.031109138395006525\n",
      "Skipping VIDT-USDT due to stop loss closer to get executed:BEP: 0.021439792555751014, SL: 0.019627579265223856, S1: 0.041851304775972424\n",
      "Skipping LEVER-USDT due to stop loss closer to get executed:BEP: 0.016994372833124327, SL: 0.009678769488333083, S1: 0.028720192367963422\n"
     ]
    }
   ],
   "source": [
    "strategy_configs = generate_config(\n",
    "    connector_name=CONNECTOR_NAME,\n",
    "    intervals=INTERVALS,\n",
    "    screener_top_markets=screener_top_markets,\n",
    "    candles=candles,\n",
    "    total_amount=TOTAL_AMOUNT,\n",
    "    max_executors_per_side=MAX_EXECUTORS_PER_SIDE,\n",
    "    cooldown_time=COOLDOWN_TIME,\n",
    "    leverage=LEVERAGE,\n",
    "    time_limit=TIME_LIMIT,\n",
    "    bb_lengths=BOLLINGER_LENGTHS,\n",
    "    bb_stds=BOLLINGER_STDS,\n",
    "    sl_std_multiplier=SL_STD_MULTIPLIER,\n",
    "    min_distance_between_orders=MIN_DISTANCE_BETWEEN_ORDERS,\n",
    "    max_ts_sl_ratio=MAX_TS_SL_RATIO,\n",
    "    ts_delta_multiplier=TS_DELTA_MULTIPLIER,\n",
    ")"
   ]
  },
  {
   "cell_type": "code",
   "execution_count": 8,
   "outputs": [
    {
     "data": {
      "text/plain": "130"
     },
     "execution_count": 8,
     "metadata": {},
     "output_type": "execute_result"
    }
   ],
   "source": [
    "len(set([config[\"trading_pair\"] for config in strategy_configs]))"
   ],
   "metadata": {
    "collapsed": false,
    "ExecuteTime": {
     "end_time": "2024-08-31T23:47:52.971484Z",
     "start_time": "2024-08-31T23:47:52.969610Z"
    }
   }
  },
  {
   "cell_type": "code",
   "execution_count": 9,
   "outputs": [
    {
     "data": {
      "text/plain": "2771"
     },
     "execution_count": 9,
     "metadata": {},
     "output_type": "execute_result"
    }
   ],
   "source": [
    "len(strategy_configs)"
   ],
   "metadata": {
    "collapsed": false,
    "ExecuteTime": {
     "end_time": "2024-08-31T23:47:52.974347Z",
     "start_time": "2024-08-31T23:47:52.972565Z"
    }
   }
  },
  {
   "cell_type": "code",
   "execution_count": 10,
   "outputs": [],
   "source": [
    "# DCA amounts\n",
    "for config in strategy_configs:\n",
    "    dump_dict_to_yaml(\"configs/\", config)"
   ],
   "metadata": {
    "collapsed": false,
    "ExecuteTime": {
     "end_time": "2024-08-31T23:48:39.081712Z",
     "start_time": "2024-08-31T23:48:37.038810Z"
    }
   }
  },
  {
   "cell_type": "code",
   "execution_count": null,
   "outputs": [],
   "source": [],
   "metadata": {
    "collapsed": false
   }
  }
 ],
 "metadata": {
  "kernelspec": {
   "display_name": "Python 3 (ipykernel)",
   "language": "python",
   "name": "python3"
  },
  "language_info": {
   "codemirror_mode": {
    "name": "ipython",
    "version": 3
   },
   "file_extension": ".py",
   "mimetype": "text/x-python",
   "name": "python",
   "nbconvert_exporter": "python",
   "pygments_lexer": "ipython3",
   "version": "3.10.14"
  }
 },
 "nbformat": 4,
 "nbformat_minor": 4
}
